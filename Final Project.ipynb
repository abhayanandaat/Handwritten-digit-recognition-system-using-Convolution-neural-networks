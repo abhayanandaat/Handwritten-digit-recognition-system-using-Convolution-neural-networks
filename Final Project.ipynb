{
 "cells": [
  {
   "cell_type": "code",
   "execution_count": 1,
   "metadata": {
    "_cell_guid": "79c7e3d0-c299-4dcb-8224-4455121ee9b0",
    "_uuid": "d629ff2d2480ee46fbb7e2d37f6b5fab8052498a"
   },
   "outputs": [
    {
     "name": "stderr",
     "output_type": "stream",
     "text": [
      "Using TensorFlow backend.\n"
     ]
    }
   ],
   "source": [
    "import numpy as np\n",
    "import matplotlib.pyplot as plt\n",
    "\n",
    "from keras.models import Sequential\n",
    "from keras.layers import Dropout\n",
    "from keras.layers import Flatten \n",
    "from keras.layers.convolutional import Conv2D\n",
    "from keras.layers.convolutional import MaxPooling2D\n",
    "from keras.layers.core import Dense, Activation, Dropout\n",
    "from keras.datasets import mnist\n",
    "from keras.optimizers import Adam\n",
    "from keras.utils import np_utils\n",
    "\n",
    "# fix a random seed for reproducibility\n",
    "np.random.seed(9)"
   ]
  },
  {
   "cell_type": "code",
   "execution_count": 11,
   "metadata": {},
   "outputs": [],
   "source": [
    "nb_epoch = 10\n",
    "num_classes = 10\n",
    "batch_size = 128\n",
    "train_size = 60000\n",
    "test_size = 10000\n",
    "v_length = 784"
   ]
  },
  {
   "cell_type": "code",
   "execution_count": 3,
   "metadata": {},
   "outputs": [
    {
     "name": "stdout",
     "output_type": "stream",
     "text": [
      "Downloading data from https://s3.amazonaws.com/img-datasets/mnist.npz\n",
      "11493376/11490434 [==============================] - 55s 5us/step\n",
      "train data shape: (60000, 28, 28)\n",
      "test data shape: (10000, 28, 28)\n",
      "train samples: 60000\n",
      "test samples: 10000\n"
     ]
    }
   ],
   "source": [
    "(trainData, trainLabels), (testData, testLabels) = mnist.load_data()\n",
    "print(\"train data shape: {}\".format(trainData.shape))\n",
    "print(\"test data shape: {}\".format(testData.shape))\n",
    "print(\"train samples: {}\".format(trainData.shape[0]))\n",
    "print(\"test samples: {}\".format(testData.shape[0]))"
   ]
  },
  {
   "cell_type": "code",
   "execution_count": 4,
   "metadata": {},
   "outputs": [
    {
     "name": "stdout",
     "output_type": "stream",
     "text": [
      "train data shape: (60000, 784)\n",
      "test data shape: (10000, 784)\n",
      "train samples: 60000\n",
      "test samples: 10000\n"
     ]
    }
   ],
   "source": [
    "trainData = trainData.reshape(train_size, v_length)\n",
    "testData = testData.reshape(test_size, v_length)\n",
    "trainData = trainData.astype(\"float32\")\n",
    "testData = testData.astype(\"float32\")\n",
    "trainData /= 255\n",
    "testData /= 255\n",
    "\n",
    "print(\"train data shape: {}\".format(trainData.shape))\n",
    "print(\"test data shape: {}\".format(testData.shape))\n",
    "print(\"train samples: {}\".format(trainData.shape[0]))\n",
    "print(\"test samples: {}\".format(testData.shape[0]))"
   ]
  },
  {
   "cell_type": "code",
   "execution_count": 5,
   "metadata": {},
   "outputs": [],
   "source": [
    "mTrainLabels = np_utils.to_categorical(trainLabels, num_classes)\n",
    "mTestLabels = np_utils.to_categorical(testLabels, num_classes)"
   ]
  },
  {
   "cell_type": "code",
   "execution_count": 6,
   "metadata": {},
   "outputs": [
    {
     "name": "stdout",
     "output_type": "stream",
     "text": [
      "WARNING:tensorflow:From /anaconda3/lib/python3.7/site-packages/tensorflow/python/framework/op_def_library.py:263: colocate_with (from tensorflow.python.framework.ops) is deprecated and will be removed in a future version.\n",
      "Instructions for updating:\n",
      "Colocations handled automatically by placer.\n",
      "_________________________________________________________________\n",
      "Layer (type)                 Output Shape              Param #   \n",
      "=================================================================\n",
      "conv2d_1 (Conv2D)            (None, 24, 24, 32)        832       \n",
      "_________________________________________________________________\n",
      "max_pooling2d_1 (MaxPooling2 (None, 12, 12, 32)        0         \n",
      "_________________________________________________________________\n",
      "conv2d_2 (Conv2D)            (None, 10, 10, 16)        4624      \n",
      "_________________________________________________________________\n",
      "max_pooling2d_2 (MaxPooling2 (None, 5, 5, 16)          0         \n",
      "_________________________________________________________________\n",
      "dropout_1 (Dropout)          (None, 5, 5, 16)          0         \n",
      "_________________________________________________________________\n",
      "flatten_1 (Flatten)          (None, 400)               0         \n",
      "_________________________________________________________________\n",
      "dense_1 (Dense)              (None, 128)               51328     \n",
      "_________________________________________________________________\n",
      "dense_2 (Dense)              (None, 50)                6450      \n",
      "_________________________________________________________________\n",
      "dense_3 (Dense)              (None, 10)                510       \n",
      "=================================================================\n",
      "Total params: 63,744\n",
      "Trainable params: 63,744\n",
      "Non-trainable params: 0\n",
      "_________________________________________________________________\n"
     ]
    }
   ],
   "source": [
    "model = Sequential()\n",
    "model.add(Conv2D(32,(5,5),input_shape=(28,28,1),activation='relu'))\n",
    "model.add(MaxPooling2D(pool_size=(2,2)))\n",
    "model.add(Conv2D(16,(3,3),activation='relu'))\n",
    "model.add(MaxPooling2D(pool_size=(2,2)))\n",
    "model.add(Dropout(0,2))\n",
    "model.add(Flatten())\n",
    "model.add(Dense(128,activation='relu'))\n",
    "model.add(Dense(50,activation='relu'))\n",
    "model.add(Dense(num_classes,activation=\"softmax\"))\n",
    "\n",
    "# summarize the model\n",
    "model.summary()"
   ]
  },
  {
   "cell_type": "code",
   "execution_count": 7,
   "metadata": {},
   "outputs": [],
   "source": [
    "model.compile(loss=\"categorical_crossentropy\", optimizer=\"adam\", metrics=[\"accuracy\"])\n"
   ]
  },
  {
   "cell_type": "code",
   "execution_count": 8,
   "metadata": {},
   "outputs": [
    {
     "name": "stdout",
     "output_type": "stream",
     "text": [
      "WARNING:tensorflow:From /anaconda3/lib/python3.7/site-packages/tensorflow/python/ops/math_ops.py:3066: to_int32 (from tensorflow.python.ops.math_ops) is deprecated and will be removed in a future version.\n",
      "Instructions for updating:\n",
      "Use tf.cast instead.\n"
     ]
    },
    {
     "name": "stderr",
     "output_type": "stream",
     "text": [
      "/anaconda3/lib/python3.7/site-packages/ipykernel_launcher.py:3: UserWarning: The `nb_epoch` argument in `fit` has been renamed `epochs`.\n",
      "  This is separate from the ipykernel package so we can avoid doing imports until\n"
     ]
    },
    {
     "name": "stdout",
     "output_type": "stream",
     "text": [
      "Train on 60000 samples, validate on 10000 samples\n",
      "Epoch 1/100\n",
      " - 21s - loss: 0.2866 - acc: 0.9125 - val_loss: 0.0711 - val_acc: 0.9786\n",
      "Epoch 2/100\n",
      " - 20s - loss: 0.0682 - acc: 0.9788 - val_loss: 0.0410 - val_acc: 0.9867\n",
      "Epoch 3/100\n",
      " - 22s - loss: 0.0461 - acc: 0.9855 - val_loss: 0.0419 - val_acc: 0.9860\n",
      "Epoch 4/100\n",
      " - 21s - loss: 0.0373 - acc: 0.9883 - val_loss: 0.0349 - val_acc: 0.9883\n",
      "Epoch 5/100\n",
      " - 22s - loss: 0.0296 - acc: 0.9908 - val_loss: 0.0387 - val_acc: 0.9880\n",
      "Epoch 6/100\n",
      " - 25s - loss: 0.0253 - acc: 0.9920 - val_loss: 0.0367 - val_acc: 0.9891\n",
      "Epoch 7/100\n",
      " - 21s - loss: 0.0217 - acc: 0.9931 - val_loss: 0.0275 - val_acc: 0.9911\n",
      "Epoch 8/100\n",
      " - 21s - loss: 0.0182 - acc: 0.9942 - val_loss: 0.0311 - val_acc: 0.9906\n",
      "Epoch 9/100\n",
      " - 21s - loss: 0.0168 - acc: 0.9943 - val_loss: 0.0324 - val_acc: 0.9901\n",
      "Epoch 10/100\n",
      " - 21s - loss: 0.0143 - acc: 0.9955 - val_loss: 0.0335 - val_acc: 0.9902\n",
      "Epoch 11/100\n",
      " - 22s - loss: 0.0124 - acc: 0.9959 - val_loss: 0.0368 - val_acc: 0.9876\n",
      "Epoch 12/100\n",
      " - 21s - loss: 0.0113 - acc: 0.9965 - val_loss: 0.0294 - val_acc: 0.9923\n",
      "Epoch 13/100\n",
      " - 21s - loss: 0.0108 - acc: 0.9962 - val_loss: 0.0346 - val_acc: 0.9902\n",
      "Epoch 14/100\n",
      " - 21s - loss: 0.0096 - acc: 0.9968 - val_loss: 0.0324 - val_acc: 0.9909\n",
      "Epoch 15/100\n",
      " - 21s - loss: 0.0085 - acc: 0.9971 - val_loss: 0.0314 - val_acc: 0.9925\n",
      "Epoch 16/100\n",
      " - 21s - loss: 0.0087 - acc: 0.9972 - val_loss: 0.0409 - val_acc: 0.9892\n",
      "Epoch 17/100\n",
      " - 21s - loss: 0.0080 - acc: 0.9974 - val_loss: 0.0394 - val_acc: 0.9898\n",
      "Epoch 18/100\n",
      " - 21s - loss: 0.0067 - acc: 0.9977 - val_loss: 0.0455 - val_acc: 0.9896\n",
      "Epoch 19/100\n",
      " - 21s - loss: 0.0067 - acc: 0.9979 - val_loss: 0.0336 - val_acc: 0.9915\n",
      "Epoch 20/100\n",
      " - 21s - loss: 0.0068 - acc: 0.9977 - val_loss: 0.0419 - val_acc: 0.9902\n",
      "Epoch 21/100\n",
      " - 21s - loss: 0.0068 - acc: 0.9977 - val_loss: 0.0307 - val_acc: 0.9919\n",
      "Epoch 22/100\n",
      " - 21s - loss: 0.0057 - acc: 0.9980 - val_loss: 0.0380 - val_acc: 0.9914\n",
      "Epoch 23/100\n",
      " - 23s - loss: 0.0066 - acc: 0.9980 - val_loss: 0.0376 - val_acc: 0.9910\n",
      "Epoch 24/100\n",
      " - 22s - loss: 0.0027 - acc: 0.9991 - val_loss: 0.0358 - val_acc: 0.9919\n",
      "Epoch 25/100\n",
      " - 21s - loss: 0.0052 - acc: 0.9983 - val_loss: 0.0429 - val_acc: 0.9897\n",
      "Epoch 26/100\n",
      " - 21s - loss: 0.0049 - acc: 0.9984 - val_loss: 0.0518 - val_acc: 0.9892\n",
      "Epoch 27/100\n",
      " - 21s - loss: 0.0056 - acc: 0.9982 - val_loss: 0.0411 - val_acc: 0.9908\n",
      "Epoch 28/100\n",
      " - 22s - loss: 0.0040 - acc: 0.9988 - val_loss: 0.0433 - val_acc: 0.9910\n",
      "Epoch 29/100\n",
      " - 22s - loss: 0.0037 - acc: 0.9989 - val_loss: 0.0425 - val_acc: 0.9907\n",
      "Epoch 30/100\n",
      " - 21s - loss: 0.0045 - acc: 0.9985 - val_loss: 0.0410 - val_acc: 0.9911\n",
      "Epoch 31/100\n",
      " - 21s - loss: 0.0034 - acc: 0.9989 - val_loss: 0.0378 - val_acc: 0.9922\n",
      "Epoch 32/100\n",
      " - 21s - loss: 0.0049 - acc: 0.9984 - val_loss: 0.0465 - val_acc: 0.9899\n",
      "Epoch 33/100\n",
      " - 22s - loss: 0.0036 - acc: 0.9990 - val_loss: 0.0464 - val_acc: 0.9908\n",
      "Epoch 34/100\n",
      " - 22s - loss: 0.0035 - acc: 0.9989 - val_loss: 0.0451 - val_acc: 0.9915\n",
      "Epoch 35/100\n",
      " - 21s - loss: 0.0046 - acc: 0.9986 - val_loss: 0.0449 - val_acc: 0.9914\n",
      "Epoch 36/100\n",
      " - 21s - loss: 0.0036 - acc: 0.9990 - val_loss: 0.0538 - val_acc: 0.9907\n",
      "Epoch 37/100\n",
      " - 22s - loss: 0.0021 - acc: 0.9994 - val_loss: 0.0485 - val_acc: 0.9908\n",
      "Epoch 38/100\n",
      " - 22s - loss: 0.0062 - acc: 0.9981 - val_loss: 0.0455 - val_acc: 0.9914\n",
      "Epoch 39/100\n",
      " - 24s - loss: 0.0032 - acc: 0.9990 - val_loss: 0.0461 - val_acc: 0.9919\n",
      "Epoch 40/100\n",
      " - 23s - loss: 0.0042 - acc: 0.9987 - val_loss: 0.0471 - val_acc: 0.9918\n",
      "Epoch 41/100\n",
      " - 23s - loss: 0.0025 - acc: 0.9992 - val_loss: 0.0473 - val_acc: 0.9922\n",
      "Epoch 42/100\n",
      " - 23s - loss: 0.0023 - acc: 0.9993 - val_loss: 0.0498 - val_acc: 0.9908\n",
      "Epoch 43/100\n",
      " - 23s - loss: 0.0049 - acc: 0.9988 - val_loss: 0.0405 - val_acc: 0.9922\n",
      "Epoch 44/100\n",
      " - 23s - loss: 6.5126e-04 - acc: 0.9999 - val_loss: 0.0451 - val_acc: 0.9938\n",
      "Epoch 45/100\n",
      " - 22s - loss: 0.0017 - acc: 0.9996 - val_loss: 0.0487 - val_acc: 0.9913\n",
      "Epoch 46/100\n",
      " - 22s - loss: 0.0044 - acc: 0.9987 - val_loss: 0.0458 - val_acc: 0.9918\n",
      "Epoch 47/100\n",
      " - 22s - loss: 0.0053 - acc: 0.9984 - val_loss: 0.0469 - val_acc: 0.9913\n",
      "Epoch 48/100\n",
      " - 22s - loss: 0.0037 - acc: 0.9989 - val_loss: 0.0471 - val_acc: 0.9923\n",
      "Epoch 49/100\n",
      " - 23s - loss: 0.0016 - acc: 0.9996 - val_loss: 0.0484 - val_acc: 0.9919\n",
      "Epoch 50/100\n",
      " - 22s - loss: 5.6597e-04 - acc: 0.9999 - val_loss: 0.0449 - val_acc: 0.9925\n",
      "Epoch 51/100\n",
      " - 22s - loss: 3.0970e-04 - acc: 1.0000 - val_loss: 0.0462 - val_acc: 0.9931\n",
      "Epoch 52/100\n",
      " - 21s - loss: 2.8291e-04 - acc: 1.0000 - val_loss: 0.0461 - val_acc: 0.9930\n",
      "Epoch 53/100\n",
      " - 21s - loss: 2.7711e-04 - acc: 1.0000 - val_loss: 0.0468 - val_acc: 0.9929\n",
      "Epoch 54/100\n",
      " - 22s - loss: 2.7439e-04 - acc: 1.0000 - val_loss: 0.0471 - val_acc: 0.9931\n",
      "Epoch 55/100\n",
      " - 22s - loss: 2.7316e-04 - acc: 1.0000 - val_loss: 0.0475 - val_acc: 0.9931\n",
      "Epoch 56/100\n",
      " - 23s - loss: 2.7228e-04 - acc: 1.0000 - val_loss: 0.0480 - val_acc: 0.9931\n",
      "Epoch 57/100\n",
      " - 22s - loss: 2.7158e-04 - acc: 1.0000 - val_loss: 0.0483 - val_acc: 0.9932\n",
      "Epoch 58/100\n",
      " - 22s - loss: 2.7102e-04 - acc: 1.0000 - val_loss: 0.0489 - val_acc: 0.9932\n",
      "Epoch 59/100\n",
      " - 22s - loss: 2.7057e-04 - acc: 1.0000 - val_loss: 0.0492 - val_acc: 0.9932\n",
      "Epoch 60/100\n",
      " - 21s - loss: 2.7022e-04 - acc: 1.0000 - val_loss: 0.0496 - val_acc: 0.9932\n",
      "Epoch 61/100\n",
      " - 21s - loss: 2.6992e-04 - acc: 1.0000 - val_loss: 0.0501 - val_acc: 0.9932\n",
      "Epoch 62/100\n",
      " - 22s - loss: 2.6970e-04 - acc: 1.0000 - val_loss: 0.0506 - val_acc: 0.9932\n",
      "Epoch 63/100\n",
      " - 22s - loss: 2.6951e-04 - acc: 1.0000 - val_loss: 0.0509 - val_acc: 0.9931\n",
      "Epoch 64/100\n",
      " - 22s - loss: 2.6935e-04 - acc: 1.0000 - val_loss: 0.0514 - val_acc: 0.9931\n",
      "Epoch 65/100\n",
      " - 21s - loss: 2.6922e-04 - acc: 1.0000 - val_loss: 0.0518 - val_acc: 0.9931\n",
      "Epoch 66/100\n",
      " - 22s - loss: 2.6913e-04 - acc: 1.0000 - val_loss: 0.0522 - val_acc: 0.9931\n",
      "Epoch 67/100\n",
      " - 22s - loss: 2.6905e-04 - acc: 1.0000 - val_loss: 0.0527 - val_acc: 0.9931\n",
      "Epoch 68/100\n",
      " - 22s - loss: 2.6899e-04 - acc: 1.0000 - val_loss: 0.0533 - val_acc: 0.9931\n",
      "Epoch 69/100\n",
      " - 22s - loss: 2.6894e-04 - acc: 1.0000 - val_loss: 0.0537 - val_acc: 0.9931\n",
      "Epoch 70/100\n",
      " - 21s - loss: 2.6890e-04 - acc: 1.0000 - val_loss: 0.0541 - val_acc: 0.9932\n",
      "Epoch 71/100\n",
      " - 21s - loss: 2.6887e-04 - acc: 1.0000 - val_loss: 0.0546 - val_acc: 0.9932\n",
      "Epoch 72/100\n",
      " - 22s - loss: 2.6884e-04 - acc: 1.0000 - val_loss: 0.0548 - val_acc: 0.9932\n",
      "Epoch 73/100\n",
      " - 23s - loss: 2.6882e-04 - acc: 1.0000 - val_loss: 0.0554 - val_acc: 0.9932\n",
      "Epoch 74/100\n",
      " - 22s - loss: 2.6881e-04 - acc: 1.0000 - val_loss: 0.0560 - val_acc: 0.9932\n",
      "Epoch 75/100\n",
      " - 22s - loss: 2.6880e-04 - acc: 1.0000 - val_loss: 0.0564 - val_acc: 0.9931\n",
      "Epoch 76/100\n",
      " - 21s - loss: 2.6879e-04 - acc: 1.0000 - val_loss: 0.0566 - val_acc: 0.9932\n",
      "Epoch 77/100\n",
      " - 21s - loss: 2.6878e-04 - acc: 1.0000 - val_loss: 0.0572 - val_acc: 0.9933\n",
      "Epoch 78/100\n",
      " - 23s - loss: 2.6877e-04 - acc: 1.0000 - val_loss: 0.0573 - val_acc: 0.9931\n",
      "Epoch 79/100\n",
      " - 23s - loss: 2.6877e-04 - acc: 1.0000 - val_loss: 0.0577 - val_acc: 0.9931\n",
      "Epoch 80/100\n",
      " - 22s - loss: 2.6877e-04 - acc: 1.0000 - val_loss: 0.0580 - val_acc: 0.9933\n",
      "Epoch 81/100\n",
      " - 21s - loss: 2.6876e-04 - acc: 1.0000 - val_loss: 0.0584 - val_acc: 0.9933\n",
      "Epoch 82/100\n",
      " - 21s - loss: 2.6876e-04 - acc: 1.0000 - val_loss: 0.0586 - val_acc: 0.9931\n",
      "Epoch 83/100\n",
      " - 22s - loss: 2.6876e-04 - acc: 1.0000 - val_loss: 0.0588 - val_acc: 0.9931\n",
      "Epoch 84/100\n",
      " - 22s - loss: 2.6876e-04 - acc: 1.0000 - val_loss: 0.0592 - val_acc: 0.9934\n",
      "Epoch 85/100\n",
      " - 23s - loss: 2.6876e-04 - acc: 1.0000 - val_loss: 0.0595 - val_acc: 0.9934\n",
      "Epoch 86/100\n",
      " - 21s - loss: 2.6876e-04 - acc: 1.0000 - val_loss: 0.0597 - val_acc: 0.9930\n",
      "Epoch 87/100\n",
      " - 22s - loss: 2.6876e-04 - acc: 1.0000 - val_loss: 0.0600 - val_acc: 0.9931\n",
      "Epoch 88/100\n",
      " - 22s - loss: 2.6876e-04 - acc: 1.0000 - val_loss: 0.0602 - val_acc: 0.9931\n",
      "Epoch 89/100\n",
      " - 24s - loss: 2.6876e-04 - acc: 1.0000 - val_loss: 0.0605 - val_acc: 0.9930\n",
      "Epoch 90/100\n",
      " - 22s - loss: 2.6875e-04 - acc: 1.0000 - val_loss: 0.0607 - val_acc: 0.9931\n",
      "Epoch 91/100\n",
      " - 21s - loss: 2.6875e-04 - acc: 1.0000 - val_loss: 0.0609 - val_acc: 0.9933\n",
      "Epoch 92/100\n",
      " - 21s - loss: 2.6875e-04 - acc: 1.0000 - val_loss: 0.0609 - val_acc: 0.9930\n",
      "Epoch 93/100\n",
      " - 22s - loss: 2.6875e-04 - acc: 1.0000 - val_loss: 0.0612 - val_acc: 0.9932\n",
      "Epoch 94/100\n",
      " - 22s - loss: 2.6875e-04 - acc: 1.0000 - val_loss: 0.0613 - val_acc: 0.9933\n",
      "Epoch 95/100\n",
      " - 22s - loss: 2.6875e-04 - acc: 1.0000 - val_loss: 0.0614 - val_acc: 0.9931\n",
      "Epoch 96/100\n",
      " - 22s - loss: 2.6875e-04 - acc: 1.0000 - val_loss: 0.0616 - val_acc: 0.9931\n",
      "Epoch 97/100\n",
      " - 22s - loss: 2.6875e-04 - acc: 1.0000 - val_loss: 0.0617 - val_acc: 0.9931\n",
      "Epoch 98/100\n",
      " - 21s - loss: 2.6875e-04 - acc: 1.0000 - val_loss: 0.0618 - val_acc: 0.9931\n",
      "Epoch 99/100\n",
      " - 21s - loss: 2.6875e-04 - acc: 1.0000 - val_loss: 0.0619 - val_acc: 0.9931\n",
      "Epoch 100/100\n",
      " - 21s - loss: 2.6875e-04 - acc: 1.0000 - val_loss: 0.0620 - val_acc: 0.9931\n"
     ]
    }
   ],
   "source": [
    "trainData=trainData.reshape(-1,28,28,1)\n",
    "testData=testData.reshape(-1,28,28,1)\n",
    "history = model.fit(trainData, mTrainLabels, validation_data=(testData, mTestLabels), batch_size=batch_size, nb_epoch=nb_epoch, verbose=2)\n"
   ]
  },
  {
   "cell_type": "code",
   "execution_count": 48,
   "metadata": {},
   "outputs": [
    {
     "name": "stdout",
     "output_type": "stream",
     "text": [
      "dict_keys(['val_loss', 'val_acc', 'loss', 'acc'])\n"
     ]
    },
    {
     "data": {
      "image/png": "[encoded data removed]",
      "text/plain": [
       "<Figure size 432x288 with 1 Axes>"
      ]
     },
     "metadata": {},
     "output_type": "display_data"
    },
    {
     "data": {
      "image/png": "[encoded data removed]",
      "text/plain": [
       "<Figure size 432x288 with 1 Axes>"
      ]
     },
     "metadata": {},
     "output_type": "display_data"
    },
    {
     "name": "stdout",
     "output_type": "stream",
     "text": [
      "test score - 0.034034924408139614\n",
      "test accuracy - 0.992\n"
     ]
    }
   ],
   "source": [
    "print(history.history.keys())\n",
    "\n",
    "# evaluate the model\n",
    "scores = model.evaluate(testData, mTestLabels, verbose=0)\n",
    "\n",
    "# history plot for accuracy\n",
    "plt.plot(history.history[\"acc\"])\n",
    "plt.plot(history.history[\"val_acc\"])\n",
    "plt.title(\"Model Accuracy\")\n",
    "plt.xlabel(\"Epoch\")\n",
    "plt.ylabel(\"Accuracy\")\n",
    "plt.legend([\"train\", \"test\"], loc=\"upper left\")\n",
    "plt.show()\n",
    "\n",
    "# history plot for accuracy\n",
    "plt.plot(history.history[\"loss\"])\n",
    "plt.plot(history.history[\"val_loss\"])\n",
    "plt.title(\"Model Loss\")\n",
    "plt.xlabel(\"Epoch\")\n",
    "plt.ylabel(\"Loss\")\n",
    "plt.legend([\"train\", \"test\"], loc=\"upper left\")\n",
    "plt.show()\n",
    "\n",
    "# print the results\n",
    "print(\"test score - {}\".format(scores[0]))\n",
    "print(\"test accuracy - {}\".format(scores[1]))"
   ]
  },
  {
   "cell_type": "code",
   "execution_count": 58,
   "metadata": {},
   "outputs": [
    {
     "name": "stdout",
     "output_type": "stream",
     "text": [
      "test images shape - (1, 28, 28)\n",
      "the digit is  - 7\n"
     ]
    },
    {
     "data": {
      "image/png": "[encoded data removed]",
      "text/plain": [
       "<Figure size 432x288 with 1 Axes>"
      ]
     },
     "metadata": {},
     "output_type": "display_data"
    }
   ],
   "source": [
    "import matplotlib.pyplot as plt\n",
    "test_images = testData[0:1]\n",
    "test_images = test_images.reshape(test_images.shape[0], 28, 28)\n",
    "print(\"test images shape - {}\".format(test_images.shape))\n",
    "\n",
    "for i, test_image in enumerate(test_images, start=1):\n",
    "\torg_image = test_image\n",
    "\ttest_image = test_image.reshape(-1,28,28,1)\n",
    "\tprediction = model.predict_classes(test_image, verbose=0)\n",
    "\tprint(\"the digit is  - {}\".format(prediction[0]))\n",
    "\tplt.subplot(220+i)\n",
    "\tplt.imshow(org_image, cmap=plt.get_cmap('Blues'))\n",
    "\n",
    "plt.show()"
   ]
  }
 ],
 "metadata": {
  "kernelspec": {
   "display_name": "Python 3",
   "language": "python",
   "name": "python3"
  },
  "language_info": {
   "codemirror_mode": {
    "name": "ipython",
    "version": 3
   },
   "file_extension": ".py",
   "mimetype": "text/x-python",
   "name": "python",
   "nbconvert_exporter": "python",
   "pygments_lexer": "ipython3",
   "version": "3.7.1"
  }
 },
 "nbformat": 4,
 "nbformat_minor": 2
}
